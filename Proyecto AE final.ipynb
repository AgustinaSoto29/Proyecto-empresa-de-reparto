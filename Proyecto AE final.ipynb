{
 "cells": [
  {
   "cell_type": "code",
   "execution_count": 219,
   "id": "98a2c4ef",
   "metadata": {},
   "outputs": [],
   "source": [
    "import numpy as np\n",
    "import pandas as pd\n",
    "pd.options.mode.chained_assignment = None\n",
    "import sklearn\n",
    "from sklearn.linear_model import LinearRegression\n",
    "import matplotlib.pyplot as plt"
   ]
  },
  {
   "cell_type": "code",
   "execution_count": 172,
   "id": "b29f85a3",
   "metadata": {},
   "outputs": [],
   "source": [
    "growth = pd.read_excel(\"growth.xlsx\")\n",
    "gdp = pd.read_csv(\"gdp.csv\")\n",
    "rec = pd.read_excel(\"rec_countries.xlsx\")\n",
    "gdp2 = pd.read_csv(\"gdp_filtrado.csv\")\n",
    "pob2 = pd.read_csv(\"poblacion_seleccionada.csv\")"
   ]
  },
  {
   "cell_type": "markdown",
   "id": "fb77cdc6",
   "metadata": {},
   "source": [
    "Se deben filtrar los países de Q3 de GDP per cápita, seleccionando solamente los países de los que tenemos información acerca de su crecimiento de compras en internet."
   ]
  },
  {
   "cell_type": "code",
   "execution_count": 173,
   "id": "4b994a98",
   "metadata": {},
   "outputs": [],
   "source": [
    "growth.drop(growth[growth[\"Country\"]==\"Czechia\"].index, axis=0, inplace=True)"
   ]
  },
  {
   "cell_type": "code",
   "execution_count": 174,
   "id": "51ef5b42",
   "metadata": {},
   "outputs": [],
   "source": [
    "gdp2.drop(labels=[\"Unnamed: 0\",\"Indicator Name\",\"Indicator Code\",\"Country Code\"],axis=1,inplace=True)\n",
    "index_drop_gdp = [index for index in gdp2[\"Country Name\"].index if gdp2[\"Country Name\"][index] not in list(growth[\"Country\"])]\n",
    "gdp2.drop(index_drop_gdp, axis=0, inplace=True)"
   ]
  },
  {
   "cell_type": "code",
   "execution_count": 175,
   "id": "41985a96",
   "metadata": {},
   "outputs": [],
   "source": [
    "pob2.drop([\"Unnamed: 0\",\"Country Code\",\"Indicator Name\"],axis=1, inplace=True)\n",
    "index_drop_pob = [index for index in pob2[\"Country Name\"].index if pob2[\"Country Name\"][index] not in list(growth[\"Country\"])]\n",
    "pob2.drop(index_drop_pob, axis=0, inplace=True)"
   ]
  },
  {
   "cell_type": "code",
   "execution_count": 176,
   "id": "93da39ba",
   "metadata": {},
   "outputs": [],
   "source": [
    "gr_cols = [int(value) for value in list(growth.columns[1:])]\n",
    "growth.columns = [growth.columns[0]] + gr_cols"
   ]
  },
  {
   "cell_type": "code",
   "execution_count": 177,
   "id": "7df434fd",
   "metadata": {},
   "outputs": [],
   "source": [
    "gdp3 = pd.melt(gdp2, id_vars = [\"Country Name\"], var_name=\"year\", value_name=\"GDP/c\")\n",
    "growth2 = pd.melt(growth, id_vars = [\"Country\"], var_name=\"year\", value_name=\"Crec. compras\")\n",
    "pob3 = pd.melt(pob2, id_vars = [\"Country Name\"], var_name=\"year\", value_name=\"Crec. poblacional\")"
   ]
  },
  {
   "cell_type": "code",
   "execution_count": 178,
   "id": "4c4d18ea",
   "metadata": {},
   "outputs": [],
   "source": [
    "gdp3 = gdp3.sort_values([\"Country Name\",\"year\"])\n",
    "pob3 = pob3.sort_values([\"Country Name\",\"year\"])\n",
    "growth2 = growth2.sort_values([\"Country\",\"year\"])"
   ]
  },
  {
   "cell_type": "code",
   "execution_count": 179,
   "id": "8e33ea57",
   "metadata": {
    "scrolled": true
   },
   "outputs": [
    {
     "data": {
      "text/plain": [
       "((231, 3), (231, 3), (231, 3))"
      ]
     },
     "execution_count": 179,
     "metadata": {},
     "output_type": "execute_result"
    }
   ],
   "source": [
    "growth2.shape, gdp3.shape, pob3.shape"
   ]
  },
  {
   "cell_type": "code",
   "execution_count": 184,
   "id": "2e63f098",
   "metadata": {},
   "outputs": [],
   "source": [
    "growth2[\"Crec. poblacional\"] = pob3[\"Crec. poblacional\"]\n",
    "growth2[\"GDP/c\"] = gdp3[\"GDP/c\"]"
   ]
  },
  {
   "cell_type": "code",
   "execution_count": 185,
   "id": "db2ef8d7",
   "metadata": {},
   "outputs": [
    {
     "data": {
      "text/html": [
       "<div>\n",
       "<style scoped>\n",
       "    .dataframe tbody tr th:only-of-type {\n",
       "        vertical-align: middle;\n",
       "    }\n",
       "\n",
       "    .dataframe tbody tr th {\n",
       "        vertical-align: top;\n",
       "    }\n",
       "\n",
       "    .dataframe thead th {\n",
       "        text-align: right;\n",
       "    }\n",
       "</style>\n",
       "<table border=\"1\" class=\"dataframe\">\n",
       "  <thead>\n",
       "    <tr style=\"text-align: right;\">\n",
       "      <th></th>\n",
       "      <th>Country</th>\n",
       "      <th>year</th>\n",
       "      <th>Crec. compras</th>\n",
       "      <th>Crec. poblacional</th>\n",
       "      <th>GDP/c</th>\n",
       "    </tr>\n",
       "  </thead>\n",
       "  <tbody>\n",
       "    <tr>\n",
       "      <th>13</th>\n",
       "      <td>Austria</td>\n",
       "      <td>2010</td>\n",
       "      <td>32</td>\n",
       "      <td>0.491183</td>\n",
       "      <td>11987.50841</td>\n",
       "    </tr>\n",
       "    <tr>\n",
       "      <th>34</th>\n",
       "      <td>Austria</td>\n",
       "      <td>2011</td>\n",
       "      <td>35</td>\n",
       "      <td>0.423701</td>\n",
       "      <td>14376.94786</td>\n",
       "    </tr>\n",
       "    <tr>\n",
       "      <th>55</th>\n",
       "      <td>Austria</td>\n",
       "      <td>2012</td>\n",
       "      <td>39</td>\n",
       "      <td>0.899209</td>\n",
       "      <td>14367.70942</td>\n",
       "    </tr>\n",
       "    <tr>\n",
       "      <th>76</th>\n",
       "      <td>Austria</td>\n",
       "      <td>2013</td>\n",
       "      <td>46</td>\n",
       "      <td>1.404050</td>\n",
       "      <td>15729.65247</td>\n",
       "    </tr>\n",
       "    <tr>\n",
       "      <th>97</th>\n",
       "      <td>Austria</td>\n",
       "      <td>2014</td>\n",
       "      <td>43</td>\n",
       "      <td>1.996754</td>\n",
       "      <td>16551.01820</td>\n",
       "    </tr>\n",
       "  </tbody>\n",
       "</table>\n",
       "</div>"
      ],
      "text/plain": [
       "    Country  year  Crec. compras  Crec. poblacional        GDP/c\n",
       "13  Austria  2010             32           0.491183  11987.50841\n",
       "34  Austria  2011             35           0.423701  14376.94786\n",
       "55  Austria  2012             39           0.899209  14367.70942\n",
       "76  Austria  2013             46           1.404050  15729.65247\n",
       "97  Austria  2014             43           1.996754  16551.01820"
      ]
     },
     "execution_count": 185,
     "metadata": {},
     "output_type": "execute_result"
    }
   ],
   "source": [
    "growth2.head(5)"
   ]
  },
  {
   "cell_type": "code",
   "execution_count": 186,
   "id": "9b81639d",
   "metadata": {},
   "outputs": [],
   "source": [
    "df_model = growth2.copy()"
   ]
  },
  {
   "cell_type": "code",
   "execution_count": 220,
   "id": "76654ea2",
   "metadata": {
    "scrolled": true
   },
   "outputs": [
    {
     "data": {
      "text/html": [
       "<div>\n",
       "<style scoped>\n",
       "    .dataframe tbody tr th:only-of-type {\n",
       "        vertical-align: middle;\n",
       "    }\n",
       "\n",
       "    .dataframe tbody tr th {\n",
       "        vertical-align: top;\n",
       "    }\n",
       "\n",
       "    .dataframe thead th {\n",
       "        text-align: right;\n",
       "    }\n",
       "</style>\n",
       "<table border=\"1\" class=\"dataframe\">\n",
       "  <thead>\n",
       "    <tr style=\"text-align: right;\">\n",
       "      <th></th>\n",
       "      <th>Country</th>\n",
       "      <th>year</th>\n",
       "      <th>Crec. compras</th>\n",
       "      <th>Crec. poblacional</th>\n",
       "      <th>GDP/c</th>\n",
       "    </tr>\n",
       "  </thead>\n",
       "  <tbody>\n",
       "    <tr>\n",
       "      <th>13</th>\n",
       "      <td>Austria</td>\n",
       "      <td>2010</td>\n",
       "      <td>32</td>\n",
       "      <td>0.491183</td>\n",
       "      <td>11987.50841</td>\n",
       "    </tr>\n",
       "    <tr>\n",
       "      <th>34</th>\n",
       "      <td>Austria</td>\n",
       "      <td>2011</td>\n",
       "      <td>35</td>\n",
       "      <td>0.423701</td>\n",
       "      <td>14376.94786</td>\n",
       "    </tr>\n",
       "    <tr>\n",
       "      <th>55</th>\n",
       "      <td>Austria</td>\n",
       "      <td>2012</td>\n",
       "      <td>39</td>\n",
       "      <td>0.899209</td>\n",
       "      <td>14367.70942</td>\n",
       "    </tr>\n",
       "    <tr>\n",
       "      <th>76</th>\n",
       "      <td>Austria</td>\n",
       "      <td>2013</td>\n",
       "      <td>46</td>\n",
       "      <td>1.404050</td>\n",
       "      <td>15729.65247</td>\n",
       "    </tr>\n",
       "    <tr>\n",
       "      <th>97</th>\n",
       "      <td>Austria</td>\n",
       "      <td>2014</td>\n",
       "      <td>43</td>\n",
       "      <td>1.996754</td>\n",
       "      <td>16551.01820</td>\n",
       "    </tr>\n",
       "    <tr>\n",
       "      <th>118</th>\n",
       "      <td>Austria</td>\n",
       "      <td>2015</td>\n",
       "      <td>46</td>\n",
       "      <td>2.386395</td>\n",
       "      <td>14263.96458</td>\n",
       "    </tr>\n",
       "    <tr>\n",
       "      <th>139</th>\n",
       "      <td>Austria</td>\n",
       "      <td>2016</td>\n",
       "      <td>48</td>\n",
       "      <td>2.288615</td>\n",
       "      <td>15008.31324</td>\n",
       "    </tr>\n",
       "    <tr>\n",
       "      <th>160</th>\n",
       "      <td>Austria</td>\n",
       "      <td>2017</td>\n",
       "      <td>53</td>\n",
       "      <td>2.738663</td>\n",
       "      <td>16885.40739</td>\n",
       "    </tr>\n",
       "    <tr>\n",
       "      <th>181</th>\n",
       "      <td>Austria</td>\n",
       "      <td>2018</td>\n",
       "      <td>53</td>\n",
       "      <td>3.491955</td>\n",
       "      <td>19186.18128</td>\n",
       "    </tr>\n",
       "    <tr>\n",
       "      <th>202</th>\n",
       "      <td>Austria</td>\n",
       "      <td>2019</td>\n",
       "      <td>54</td>\n",
       "      <td>3.931356</td>\n",
       "      <td>19575.76848</td>\n",
       "    </tr>\n",
       "  </tbody>\n",
       "</table>\n",
       "</div>"
      ],
      "text/plain": [
       "     Country  year  Crec. compras  Crec. poblacional        GDP/c\n",
       "13   Austria  2010             32           0.491183  11987.50841\n",
       "34   Austria  2011             35           0.423701  14376.94786\n",
       "55   Austria  2012             39           0.899209  14367.70942\n",
       "76   Austria  2013             46           1.404050  15729.65247\n",
       "97   Austria  2014             43           1.996754  16551.01820\n",
       "118  Austria  2015             46           2.386395  14263.96458\n",
       "139  Austria  2016             48           2.288615  15008.31324\n",
       "160  Austria  2017             53           2.738663  16885.40739\n",
       "181  Austria  2018             53           3.491955  19186.18128\n",
       "202  Austria  2019             54           3.931356  19575.76848"
      ]
     },
     "execution_count": 220,
     "metadata": {},
     "output_type": "execute_result"
    }
   ],
   "source": [
    "df_model.head(10)"
   ]
  },
  {
   "cell_type": "markdown",
   "id": "3edf70e1",
   "metadata": {},
   "source": [
    "## Creación de modelo predictivo: Regresión lineal\n",
    "### Buscamos los scores para cada país, con tal de encontrar los países que podamos predecir con mayor exactitud, las variables dependientes, para el año que queramos."
   ]
  },
  {
   "cell_type": "code",
   "execution_count": 217,
   "id": "ead1042d",
   "metadata": {},
   "outputs": [],
   "source": [
    "def get_score(df,indep,dep):\n",
    "    scores=[]\n",
    "    \n",
    "    for country in df[\"Country\"].value_counts().index:\n",
    "        x = df[df[\"Country\"]==country][[indep]].values\n",
    "        y = df[df[\"Country\"]==country][dep]\n",
    "        \n",
    "        regr = sklearn.linear_model.LinearRegression()\n",
    "        model = regr.fit(x,y)\n",
    "        score = regr.score(x, y)\n",
    "        scores.append(score)\n",
    "    \n",
    "    dic_score = dict(zip(df[\"Country\"].value_counts().index,scores))\n",
    "    \n",
    "    \n",
    "    return dic_score"
   ]
  },
  {
   "cell_type": "code",
   "execution_count": 222,
   "id": "98b77948",
   "metadata": {},
   "outputs": [
    {
     "data": {
      "text/plain": [
       "{'Austria': 0.9080542348540547,\n",
       " 'Lithuania': 0.622621558278465,\n",
       " 'Sweden': 0.5395791155361117,\n",
       " 'Spain': 0.6813260142778658,\n",
       " 'Slovenia': 0.902637522123238,\n",
       " 'Portugal': 0.46097597778996313,\n",
       " 'Norway': 0.3702821787547849,\n",
       " 'Netherlands': 0.47102880164552835,\n",
       " 'Malta': 0.7734316089876584,\n",
       " 'Luxembourg': 0.6703794133224311,\n",
       " 'Italy': 0.39798864802202094,\n",
       " 'Belgium': 0.3332309789107541,\n",
       " 'Ireland': 0.579000097227253,\n",
       " 'Iceland': 0.36106394780978573,\n",
       " 'Germany': 0.5419036751402398,\n",
       " 'France': 0.8807301239795146,\n",
       " 'Finland': 0.2903689723603139,\n",
       " 'Estonia': 0.33640391262980157,\n",
       " 'Denmark': 0.43880979868206166,\n",
       " 'Cyprus': 0.5753307021238905,\n",
       " 'United Kingdom': 0.611608042781886}"
      ]
     },
     "execution_count": 222,
     "metadata": {},
     "output_type": "execute_result"
    }
   ],
   "source": [
    "pred_score = get_score(df_model,\"year\",[\"Crec. poblacional\",\"Crec. compras\",\"GDP/c\"])\n",
    "pred_score"
   ]
  },
  {
   "cell_type": "code",
   "execution_count": 230,
   "id": "d8d3d2d9",
   "metadata": {},
   "outputs": [],
   "source": [
    "valores = np.array(list(pred_score.values()))"
   ]
  },
  {
   "cell_type": "code",
   "execution_count": 232,
   "id": "a93441ca",
   "metadata": {},
   "outputs": [],
   "source": [
    "index_valores = []\n",
    "for index,value in enumerate(valores):\n",
    "    if value > np.median(valores):\n",
    "        index_valores.append(index)"
   ]
  },
  {
   "cell_type": "code",
   "execution_count": 240,
   "id": "85e7a7e8",
   "metadata": {},
   "outputs": [],
   "source": [
    "seleccion = [pais for index,pais in enumerate(list(pred_score.keys())) if index in index_valores]"
   ]
  },
  {
   "cell_type": "code",
   "execution_count": 241,
   "id": "f67cac3c",
   "metadata": {},
   "outputs": [
    {
     "data": {
      "text/plain": [
       "['Austria',\n",
       " 'Lithuania',\n",
       " 'Spain',\n",
       " 'Slovenia',\n",
       " 'Malta',\n",
       " 'Luxembourg',\n",
       " 'Ireland',\n",
       " 'France',\n",
       " 'Cyprus',\n",
       " 'United Kingdom']"
      ]
     },
     "execution_count": 241,
     "metadata": {},
     "output_type": "execute_result"
    }
   ],
   "source": [
    "seleccion #Países con score mayor a la mediana"
   ]
  },
  {
   "cell_type": "markdown",
   "id": "bbd1c7bc",
   "metadata": {},
   "source": [
    "### Con los países seleccionados, predeciremos el crecimiento de las compras por internet y evaluaremos dónde será más rentable colocar 3 centros de distribución"
   ]
  },
  {
   "cell_type": "code",
   "execution_count": 289,
   "id": "0fe2b009",
   "metadata": {},
   "outputs": [],
   "source": [
    "def get_pred(df,indep,dep,countries,year):\n",
    "    preds = []\n",
    "    crec_pob = []\n",
    "    crec_com = []\n",
    "    gdp_c = []\n",
    "    years = np.full(shape=len(countries),fill_value=year)\n",
    "\n",
    "    for index,country in enumerate(countries):\n",
    "        x = df[df[\"Country\"]==country][[indep]].values.reshape(-1,1)\n",
    "        y = df[df[\"Country\"]==country][dep]\n",
    "        \n",
    "        regr = sklearn.linear_model.LinearRegression()\n",
    "        model = regr.fit(x,y)\n",
    "        score = regr.score(x, y)\n",
    "        pred = regr.predict([[year]])\n",
    "        preds.append(pred)\n",
    "        \n",
    "        crec_pob.append(preds[index][0][0])\n",
    "        crec_com.append(preds[index][0][1])\n",
    "        gdp_c.append(preds[index][0][2])\n",
    "        \n",
    "    df = pd.DataFrame({\"Country\":countries,\n",
    "                       \"year\":years,\n",
    "                       \"Crec. poblacional\":crec_pob,\n",
    "                       \"Crec. compras\":crec_com,\n",
    "                       \"GDP/c\":gdp_c})\n",
    "        \n",
    "    return df"
   ]
  },
  {
   "cell_type": "code",
   "execution_count": 291,
   "id": "d74e82ad",
   "metadata": {},
   "outputs": [],
   "source": [
    "final = get_pred(df_model,\"year\",[\"Crec. poblacional\",\"Crec. compras\",\"GDP/c\"],seleccion,2030)"
   ]
  },
  {
   "cell_type": "code",
   "execution_count": 293,
   "id": "e168d6da",
   "metadata": {
    "scrolled": true
   },
   "outputs": [
    {
     "data": {
      "text/html": [
       "<div>\n",
       "<style scoped>\n",
       "    .dataframe tbody tr th:only-of-type {\n",
       "        vertical-align: middle;\n",
       "    }\n",
       "\n",
       "    .dataframe tbody tr th {\n",
       "        vertical-align: top;\n",
       "    }\n",
       "\n",
       "    .dataframe thead th {\n",
       "        text-align: right;\n",
       "    }\n",
       "</style>\n",
       "<table border=\"1\" class=\"dataframe\">\n",
       "  <thead>\n",
       "    <tr style=\"text-align: right;\">\n",
       "      <th></th>\n",
       "      <th>Country</th>\n",
       "      <th>year</th>\n",
       "      <th>Crec. poblacional</th>\n",
       "      <th>Crec. compras</th>\n",
       "      <th>GDP/c</th>\n",
       "    </tr>\n",
       "  </thead>\n",
       "  <tbody>\n",
       "    <tr>\n",
       "      <th>0</th>\n",
       "      <td>Austria</td>\n",
       "      <td>2030</td>\n",
       "      <td>8.052579</td>\n",
       "      <td>80.954545</td>\n",
       "      <td>26729.998182</td>\n",
       "    </tr>\n",
       "    <tr>\n",
       "      <th>1</th>\n",
       "      <td>Lithuania</td>\n",
       "      <td>2030</td>\n",
       "      <td>2.383978</td>\n",
       "      <td>74.181818</td>\n",
       "      <td>43031.309400</td>\n",
       "    </tr>\n",
       "    <tr>\n",
       "      <th>2</th>\n",
       "      <td>Spain</td>\n",
       "      <td>2030</td>\n",
       "      <td>-0.290534</td>\n",
       "      <td>87.409091</td>\n",
       "      <td>25430.104375</td>\n",
       "    </tr>\n",
       "    <tr>\n",
       "      <th>3</th>\n",
       "      <td>Slovenia</td>\n",
       "      <td>2030</td>\n",
       "      <td>-0.215764</td>\n",
       "      <td>78.545455</td>\n",
       "      <td>40288.111350</td>\n",
       "    </tr>\n",
       "    <tr>\n",
       "      <th>4</th>\n",
       "      <td>Malta</td>\n",
       "      <td>2030</td>\n",
       "      <td>1.402735</td>\n",
       "      <td>70.136364</td>\n",
       "      <td>98580.349993</td>\n",
       "    </tr>\n",
       "    <tr>\n",
       "      <th>5</th>\n",
       "      <td>Luxembourg</td>\n",
       "      <td>2030</td>\n",
       "      <td>-1.755623</td>\n",
       "      <td>86.818182</td>\n",
       "      <td>122368.175628</td>\n",
       "    </tr>\n",
       "    <tr>\n",
       "      <th>6</th>\n",
       "      <td>Ireland</td>\n",
       "      <td>2030</td>\n",
       "      <td>1.172161</td>\n",
       "      <td>90.500000</td>\n",
       "      <td>59282.609610</td>\n",
       "    </tr>\n",
       "    <tr>\n",
       "      <th>7</th>\n",
       "      <td>France</td>\n",
       "      <td>2030</td>\n",
       "      <td>-0.142866</td>\n",
       "      <td>81.272727</td>\n",
       "      <td>30871.425702</td>\n",
       "    </tr>\n",
       "    <tr>\n",
       "      <th>8</th>\n",
       "      <td>Cyprus</td>\n",
       "      <td>2030</td>\n",
       "      <td>4.802048</td>\n",
       "      <td>43.500000</td>\n",
       "      <td>35964.983513</td>\n",
       "    </tr>\n",
       "    <tr>\n",
       "      <th>9</th>\n",
       "      <td>United Kingdom</td>\n",
       "      <td>2030</td>\n",
       "      <td>0.395251</td>\n",
       "      <td>105.363636</td>\n",
       "      <td>45651.634322</td>\n",
       "    </tr>\n",
       "  </tbody>\n",
       "</table>\n",
       "</div>"
      ],
      "text/plain": [
       "          Country  year  Crec. poblacional  Crec. compras          GDP/c\n",
       "0         Austria  2030           8.052579      80.954545   26729.998182\n",
       "1       Lithuania  2030           2.383978      74.181818   43031.309400\n",
       "2           Spain  2030          -0.290534      87.409091   25430.104375\n",
       "3        Slovenia  2030          -0.215764      78.545455   40288.111350\n",
       "4           Malta  2030           1.402735      70.136364   98580.349993\n",
       "5      Luxembourg  2030          -1.755623      86.818182  122368.175628\n",
       "6         Ireland  2030           1.172161      90.500000   59282.609610\n",
       "7          France  2030          -0.142866      81.272727   30871.425702\n",
       "8          Cyprus  2030           4.802048      43.500000   35964.983513\n",
       "9  United Kingdom  2030           0.395251     105.363636   45651.634322"
      ]
     },
     "execution_count": 293,
     "metadata": {},
     "output_type": "execute_result"
    }
   ],
   "source": [
    "final"
   ]
  },
  {
   "cell_type": "markdown",
   "id": "e3d55319",
   "metadata": {},
   "source": [
    "### Se realizó una selección final por dos criterios:\n",
    "#### PBI per cápita mayor a la mediana\n",
    "#### Crecimiento de compras mayor a la mediana"
   ]
  },
  {
   "cell_type": "markdown",
   "id": "184716a1",
   "metadata": {},
   "source": [
    "### Los países elegidos para colocar los centros de distribución son los siguientes:"
   ]
  },
  {
   "cell_type": "code",
   "execution_count": 295,
   "id": "cae61449",
   "metadata": {
    "scrolled": true
   },
   "outputs": [
    {
     "data": {
      "text/html": [
       "<div>\n",
       "<style scoped>\n",
       "    .dataframe tbody tr th:only-of-type {\n",
       "        vertical-align: middle;\n",
       "    }\n",
       "\n",
       "    .dataframe tbody tr th {\n",
       "        vertical-align: top;\n",
       "    }\n",
       "\n",
       "    .dataframe thead th {\n",
       "        text-align: right;\n",
       "    }\n",
       "</style>\n",
       "<table border=\"1\" class=\"dataframe\">\n",
       "  <thead>\n",
       "    <tr style=\"text-align: right;\">\n",
       "      <th></th>\n",
       "      <th>Country</th>\n",
       "      <th>year</th>\n",
       "      <th>Crec. poblacional</th>\n",
       "      <th>Crec. compras</th>\n",
       "      <th>GDP/c</th>\n",
       "    </tr>\n",
       "  </thead>\n",
       "  <tbody>\n",
       "    <tr>\n",
       "      <th>5</th>\n",
       "      <td>Luxembourg</td>\n",
       "      <td>2030</td>\n",
       "      <td>-1.755623</td>\n",
       "      <td>86.818182</td>\n",
       "      <td>122368.175628</td>\n",
       "    </tr>\n",
       "    <tr>\n",
       "      <th>6</th>\n",
       "      <td>Ireland</td>\n",
       "      <td>2030</td>\n",
       "      <td>1.172161</td>\n",
       "      <td>90.500000</td>\n",
       "      <td>59282.609610</td>\n",
       "    </tr>\n",
       "    <tr>\n",
       "      <th>9</th>\n",
       "      <td>United Kingdom</td>\n",
       "      <td>2030</td>\n",
       "      <td>0.395251</td>\n",
       "      <td>105.363636</td>\n",
       "      <td>45651.634322</td>\n",
       "    </tr>\n",
       "  </tbody>\n",
       "</table>\n",
       "</div>"
      ],
      "text/plain": [
       "          Country  year  Crec. poblacional  Crec. compras          GDP/c\n",
       "5      Luxembourg  2030          -1.755623      86.818182  122368.175628\n",
       "6         Ireland  2030           1.172161      90.500000   59282.609610\n",
       "9  United Kingdom  2030           0.395251     105.363636   45651.634322"
      ]
     },
     "execution_count": 295,
     "metadata": {},
     "output_type": "execute_result"
    }
   ],
   "source": [
    "final[(final[\"Crec. compras\"]>np.percentile(final[\"Crec. compras\"],50)) & (final[\"GDP/c\"]>np.percentile(final[\"GDP/c\"],50))]"
   ]
  }
 ],
 "metadata": {
  "kernelspec": {
   "display_name": "Python 3 (ipykernel)",
   "language": "python",
   "name": "python3"
  },
  "language_info": {
   "codemirror_mode": {
    "name": "ipython",
    "version": 3
   },
   "file_extension": ".py",
   "mimetype": "text/x-python",
   "name": "python",
   "nbconvert_exporter": "python",
   "pygments_lexer": "ipython3",
   "version": "3.9.7"
  }
 },
 "nbformat": 4,
 "nbformat_minor": 5
}
